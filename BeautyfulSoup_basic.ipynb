{
  "nbformat": 4,
  "nbformat_minor": 0,
  "metadata": {
    "colab": {
      "provenance": [],
      "mount_file_id": "1vFEcxObd4N2nxJ_iVEhU_DLPkc4DLt6l",
      "authorship_tag": "ABX9TyPluOo2e0ZOzf5ZftvM7KtH",
      "include_colab_link": true
    },
    "kernelspec": {
      "name": "python3",
      "display_name": "Python 3"
    },
    "language_info": {
      "name": "python"
    }
  },
  "cells": [
    {
      "cell_type": "markdown",
      "metadata": {
        "id": "view-in-github",
        "colab_type": "text"
      },
      "source": [
        "<a href=\"https://colab.research.google.com/github/eeuuais/data_collection/blob/main/BeautyfulSoup_basic.ipynb\" target=\"_parent\"><img src=\"https://colab.research.google.com/assets/colab-badge.svg\" alt=\"Open In Colab\"/></a>"
      ]
    },
    {
      "cell_type": "markdown",
      "source": [
        "# HTML 파싱(Parsing)"
      ],
      "metadata": {
        "id": "v3yQR-IeyU1h"
      }
    },
    {
      "cell_type": "markdown",
      "source": [
        "웹페이지 예제 생성\n"
      ],
      "metadata": {
        "id": "dFSHjO6FyaHR"
      }
    },
    {
      "cell_type": "code",
      "execution_count": 26,
      "metadata": {
        "colab": {
          "base_uri": "https://localhost:8080/"
        },
        "id": "Qj4pToHTyK9d",
        "outputId": "edfc0efa-f08f-4377-95f6-1f6a71c35951"
      },
      "outputs": [
        {
          "output_type": "stream",
          "name": "stdout",
          "text": [
            "Overwriting example.html\n"
          ]
        }
      ],
      "source": [
        "%%writefile example.html\n",
        "<!DOCTYPE html>\n",
        "<html>\n",
        "  <head>\n",
        "    <title>Page title</title>\n",
        "  </head>\n",
        "  <body>\n",
        "    <h1>Heading 1</h1>\n",
        "    <p>Paragrahp</p>\n",
        "    <div>\n",
        "      <a href=\"www.google.com\">google</a>\n",
        "    </div>\n",
        "    <div class='class1'>\n",
        "      <p>a</p>\n",
        "      <a href=\"www.naver.com\">naver</a>\n",
        "      <p>b</p>\n",
        "      <p>c</p>\n",
        "    </div>\n",
        "    <div id=\"id1\">\n",
        "      example Page\n",
        "      <p>g</p>\n",
        "    </div>\n",
        "  </body>\n",
        "</html>\n"
      ]
    },
    {
      "cell_type": "code",
      "source": [
        "from bs4 import BeautifulSoup\n",
        "import urllib.request\n",
        "\n",
        "with open(\"example.html\") as fp:\n",
        "  soup = BeautifulSoup(fp, 'html.parser')\n",
        "\n",
        "soup"
      ],
      "metadata": {
        "colab": {
          "base_uri": "https://localhost:8080/"
        },
        "id": "OPJR0ODVy9JG",
        "outputId": "c88d490f-45c5-411e-a779-825353ebf46a"
      },
      "execution_count": 29,
      "outputs": [
        {
          "output_type": "execute_result",
          "data": {
            "text/plain": [
              "<!DOCTYPE html>\n",
              "\n",
              "<html>\n",
              "<head>\n",
              "<title>Page title</title>\n",
              "</head>\n",
              "<body>\n",
              "<h1>Heading 1</h1>\n",
              "<p>Paragrahp</p>\n",
              "<div>\n",
              "<a href=\"www.google.com\">google</a>\n",
              "</div>\n",
              "<div class=\"class1\">\n",
              "<p>a</p>\n",
              "<a href=\"www.naver.com\">naver</a>\n",
              "<p>b</p>\n",
              "<p>c</p>\n",
              "</div>\n",
              "<div id=\"id1\">\n",
              "      example Page\n",
              "      <p>g</p>\n",
              "</div>\n",
              "</body>\n",
              "</html>"
            ]
          },
          "metadata": {},
          "execution_count": 29
        }
      ]
    },
    {
      "cell_type": "code",
      "source": [
        "print(soup.prettify())"
      ],
      "metadata": {
        "colab": {
          "base_uri": "https://localhost:8080/"
        },
        "id": "wPMDG40Iziw2",
        "outputId": "b129279e-a4d6-4387-9148-5d70a1c95b71"
      },
      "execution_count": 30,
      "outputs": [
        {
          "output_type": "stream",
          "name": "stdout",
          "text": [
            "<!DOCTYPE html>\n",
            "<html>\n",
            " <head>\n",
            "  <title>\n",
            "   Page title\n",
            "  </title>\n",
            " </head>\n",
            " <body>\n",
            "  <h1>\n",
            "   Heading 1\n",
            "  </h1>\n",
            "  <p>\n",
            "   Paragrahp\n",
            "  </p>\n",
            "  <div>\n",
            "   <a href=\"www.google.com\">\n",
            "    google\n",
            "   </a>\n",
            "  </div>\n",
            "  <div class=\"class1\">\n",
            "   <p>\n",
            "    a\n",
            "   </p>\n",
            "   <a href=\"www.naver.com\">\n",
            "    naver\n",
            "   </a>\n",
            "   <p>\n",
            "    b\n",
            "   </p>\n",
            "   <p>\n",
            "    c\n",
            "   </p>\n",
            "  </div>\n",
            "  <div id=\"id1\">\n",
            "   example Page\n",
            "   <p>\n",
            "    g\n",
            "   </p>\n",
            "  </div>\n",
            " </body>\n",
            "</html>\n",
            "\n"
          ]
        }
      ]
    },
    {
      "cell_type": "markdown",
      "source": [
        "HTML 태그 파싱"
      ],
      "metadata": {
        "id": "Hf2xf4Iczxrk"
      }
    },
    {
      "cell_type": "code",
      "source": [
        "soup.title"
      ],
      "metadata": {
        "colab": {
          "base_uri": "https://localhost:8080/"
        },
        "id": "f_nLzCZszrXd",
        "outputId": "37dd5194-eaa1-4778-d39d-1ae6863506ea"
      },
      "execution_count": 31,
      "outputs": [
        {
          "output_type": "execute_result",
          "data": {
            "text/plain": [
              "<title>Page title</title>"
            ]
          },
          "metadata": {},
          "execution_count": 31
        }
      ]
    },
    {
      "cell_type": "code",
      "source": [
        "#태그의 name만 가져오기\n",
        "\n",
        "soup.title.name"
      ],
      "metadata": {
        "colab": {
          "base_uri": "https://localhost:8080/",
          "height": 36
        },
        "id": "lByQIsUjz2Q6",
        "outputId": "10dfc645-59f8-40fb-c074-ca3ec59b157c"
      },
      "execution_count": 32,
      "outputs": [
        {
          "output_type": "execute_result",
          "data": {
            "text/plain": [
              "'title'"
            ],
            "application/vnd.google.colaboratory.intrinsic+json": {
              "type": "string"
            }
          },
          "metadata": {},
          "execution_count": 32
        }
      ]
    },
    {
      "cell_type": "code",
      "source": [
        "#값만 가져오기\n",
        "\n",
        "soup.title.string"
      ],
      "metadata": {
        "colab": {
          "base_uri": "https://localhost:8080/",
          "height": 36
        },
        "id": "Yv1UW9sqz_y0",
        "outputId": "ed7b4be1-6888-4b22-b1de-a71ca8c3aa20"
      },
      "execution_count": 33,
      "outputs": [
        {
          "output_type": "execute_result",
          "data": {
            "text/plain": [
              "'Page title'"
            ],
            "application/vnd.google.colaboratory.intrinsic+json": {
              "type": "string"
            }
          },
          "metadata": {},
          "execution_count": 33
        }
      ]
    },
    {
      "cell_type": "code",
      "source": [
        "#타이틀 태그가 포함된 상위태그 출력\n",
        "\n",
        "soup.title.parent"
      ],
      "metadata": {
        "colab": {
          "base_uri": "https://localhost:8080/"
        },
        "id": "tQ5frCrP0CoR",
        "outputId": "9a9da57e-3ca9-44c6-8793-18864d524c7a"
      },
      "execution_count": 34,
      "outputs": [
        {
          "output_type": "execute_result",
          "data": {
            "text/plain": [
              "<head>\n",
              "<title>Page title</title>\n",
              "</head>"
            ]
          },
          "metadata": {},
          "execution_count": 34
        }
      ]
    },
    {
      "cell_type": "code",
      "source": [
        "soup.title.parent.name"
      ],
      "metadata": {
        "colab": {
          "base_uri": "https://localhost:8080/",
          "height": 36
        },
        "id": "_kzwkoka0KnT",
        "outputId": "94fb680e-9786-45c8-8cdd-e50662f06145"
      },
      "execution_count": 35,
      "outputs": [
        {
          "output_type": "execute_result",
          "data": {
            "text/plain": [
              "'head'"
            ],
            "application/vnd.google.colaboratory.intrinsic+json": {
              "type": "string"
            }
          },
          "metadata": {},
          "execution_count": 35
        }
      ]
    },
    {
      "cell_type": "code",
      "source": [
        "soup.h1"
      ],
      "metadata": {
        "colab": {
          "base_uri": "https://localhost:8080/"
        },
        "id": "8d2zitae0PZl",
        "outputId": "a0100e2d-70ba-4e98-ef14-12db812a7713"
      },
      "execution_count": 36,
      "outputs": [
        {
          "output_type": "execute_result",
          "data": {
            "text/plain": [
              "<h1>Heading 1</h1>"
            ]
          },
          "metadata": {},
          "execution_count": 36
        }
      ]
    },
    {
      "cell_type": "code",
      "source": [
        "soup.p"
      ],
      "metadata": {
        "colab": {
          "base_uri": "https://localhost:8080/"
        },
        "id": "0AkqyTTA0Nz8",
        "outputId": "0a3ce368-c16e-4991-ed64-021a15d615ce"
      },
      "execution_count": 37,
      "outputs": [
        {
          "output_type": "execute_result",
          "data": {
            "text/plain": [
              "<p>Paragrahp</p>"
            ]
          },
          "metadata": {},
          "execution_count": 37
        }
      ]
    },
    {
      "cell_type": "markdown",
      "source": [
        "p태그의 경우 가장 처음에 사용된 p태그가 불러와 진다"
      ],
      "metadata": {
        "id": "unCPyN3j0VHG"
      }
    },
    {
      "cell_type": "code",
      "source": [
        "soup.div"
      ],
      "metadata": {
        "colab": {
          "base_uri": "https://localhost:8080/"
        },
        "id": "NxEcgDdO0S5R",
        "outputId": "f3c23d8b-3eb3-440f-d4ba-7b5989e272f6"
      },
      "execution_count": 38,
      "outputs": [
        {
          "output_type": "execute_result",
          "data": {
            "text/plain": [
              "<div>\n",
              "<a href=\"www.google.com\">google</a>\n",
              "</div>"
            ]
          },
          "metadata": {},
          "execution_count": 38
        }
      ]
    },
    {
      "cell_type": "code",
      "source": [
        "soup.a"
      ],
      "metadata": {
        "colab": {
          "base_uri": "https://localhost:8080/"
        },
        "id": "OeF6WJPF0aUZ",
        "outputId": "0c6659a9-2855-405b-aab3-4d325ba53813"
      },
      "execution_count": 39,
      "outputs": [
        {
          "output_type": "execute_result",
          "data": {
            "text/plain": [
              "<a href=\"www.google.com\">google</a>"
            ]
          },
          "metadata": {},
          "execution_count": 39
        }
      ]
    },
    {
      "cell_type": "markdown",
      "source": [
        "## HTML 태그 검색\n",
        "\n",
        "- find() : 해당 조건에 맞는 하나의 태그를 가져옴\n",
        "- find_all() : 해당 조건에 맞는 모든 태그를 가져옴\n",
        "- select() : CSS 선택자와 같은 형식으로 선택 가능\n",
        "\n"
      ],
      "metadata": {
        "id": "qNlpA2pQ0jbC"
      }
    },
    {
      "cell_type": "code",
      "source": [
        "soup_find = soup.find(\"div\") #첫번째 div에 해당하는 내용이 출력됨\n",
        "print(soup_find)"
      ],
      "metadata": {
        "colab": {
          "base_uri": "https://localhost:8080/"
        },
        "id": "oyqOYQwM0i9H",
        "outputId": "72a412e1-fc1b-4ca8-82c6-2d683162ad94"
      },
      "execution_count": 40,
      "outputs": [
        {
          "output_type": "stream",
          "name": "stdout",
          "text": [
            "<div>\n",
            "<a href=\"www.google.com\">google</a>\n",
            "</div>\n"
          ]
        }
      ]
    },
    {
      "cell_type": "code",
      "source": [
        "soup_find_all = soup.find_all(\"div\")\n",
        "print(soup_find_all) #리스트 형태로 반환"
      ],
      "metadata": {
        "colab": {
          "base_uri": "https://localhost:8080/"
        },
        "id": "IzJ9Q-oK2Rwf",
        "outputId": "3d1797a8-9691-4354-b269-d56ff01f1281"
      },
      "execution_count": 41,
      "outputs": [
        {
          "output_type": "stream",
          "name": "stdout",
          "text": [
            "[<div>\n",
            "<a href=\"www.google.com\">google</a>\n",
            "</div>, <div class=\"class1\">\n",
            "<p>a</p>\n",
            "<a href=\"www.naver.com\">naver</a>\n",
            "<p>b</p>\n",
            "<p>c</p>\n",
            "</div>, <div id=\"id1\">\n",
            "      example Page\n",
            "      <p>g</p>\n",
            "</div>]\n"
          ]
        }
      ]
    },
    {
      "cell_type": "code",
      "source": [
        "find_by_id = soup.find_all(\"div\", {\"id\":'id1'}) #id1값을 갖는 id를 찾아줘\n",
        "print(find_by_id) #결과값이 하나라도 리스트로 반환됨"
      ],
      "metadata": {
        "colab": {
          "base_uri": "https://localhost:8080/"
        },
        "id": "8hKlQ5YO2dI9",
        "outputId": "828e9e9d-b47a-49ee-85bb-3cfee7cebdd0"
      },
      "execution_count": 42,
      "outputs": [
        {
          "output_type": "stream",
          "name": "stdout",
          "text": [
            "[<div id=\"id1\">\n",
            "      example Page\n",
            "      <p>g</p>\n",
            "</div>]\n"
          ]
        }
      ]
    },
    {
      "cell_type": "code",
      "source": [
        "find_by_class = soup.find_all(\"div\", {\"class\":'class1'})\n",
        "print(find_by_class)"
      ],
      "metadata": {
        "colab": {
          "base_uri": "https://localhost:8080/"
        },
        "id": "ip0uE0jw2aNQ",
        "outputId": "d26019a3-ad4e-4f37-ace9-5e74a27a67d7"
      },
      "execution_count": 43,
      "outputs": [
        {
          "output_type": "stream",
          "name": "stdout",
          "text": [
            "[<div class=\"class1\">\n",
            "<p>a</p>\n",
            "<a href=\"www.naver.com\">naver</a>\n",
            "<p>b</p>\n",
            "<p>c</p>\n",
            "</div>]\n"
          ]
        }
      ]
    },
    {
      "cell_type": "code",
      "source": [
        "soup.find(\"a\").get(\"href\") #첫번째 a태그의 특정 속성값만 가져오기"
      ],
      "metadata": {
        "colab": {
          "base_uri": "https://localhost:8080/",
          "height": 36
        },
        "id": "9-SEDEpq3K6m",
        "outputId": "8817c545-ed8a-464e-e7bf-e9d3ccb9ed3e"
      },
      "execution_count": 44,
      "outputs": [
        {
          "output_type": "execute_result",
          "data": {
            "text/plain": [
              "'www.google.com'"
            ],
            "application/vnd.google.colaboratory.intrinsic+json": {
              "type": "string"
            }
          },
          "metadata": {},
          "execution_count": 44
        }
      ]
    },
    {
      "cell_type": "code",
      "source": [
        "soup.find(\"a\")"
      ],
      "metadata": {
        "colab": {
          "base_uri": "https://localhost:8080/"
        },
        "id": "78dgEUv62OSl",
        "outputId": "4f8e54cd-fcda-4dc3-91f3-5d01a23c273a"
      },
      "execution_count": 45,
      "outputs": [
        {
          "output_type": "execute_result",
          "data": {
            "text/plain": [
              "<a href=\"www.google.com\">google</a>"
            ]
          },
          "metadata": {},
          "execution_count": 45
        }
      ]
    },
    {
      "cell_type": "code",
      "source": [
        "soup.find(\"a\").get_text()"
      ],
      "metadata": {
        "colab": {
          "base_uri": "https://localhost:8080/",
          "height": 36
        },
        "id": "g06_NTOs0dCd",
        "outputId": "643485a4-897c-4f78-8051-72814ecc46c5"
      },
      "execution_count": 46,
      "outputs": [
        {
          "output_type": "execute_result",
          "data": {
            "text/plain": [
              "'google'"
            ],
            "application/vnd.google.colaboratory.intrinsic+json": {
              "type": "string"
            }
          },
          "metadata": {},
          "execution_count": 46
        }
      ]
    },
    {
      "cell_type": "code",
      "source": [
        "site_names = soup.find_all(\"a\")\n",
        "#a태그가 포함되어있는 부분마다 출력\n",
        "for name in site_names:\n",
        "  print(name)"
      ],
      "metadata": {
        "colab": {
          "base_uri": "https://localhost:8080/"
        },
        "id": "mMqEife93k66",
        "outputId": "41c5571c-fb2a-42fd-8bde-e298ce2c99d4"
      },
      "execution_count": 47,
      "outputs": [
        {
          "output_type": "stream",
          "name": "stdout",
          "text": [
            "<a href=\"www.google.com\">google</a>\n",
            "<a href=\"www.naver.com\">naver</a>\n"
          ]
        }
      ]
    },
    {
      "cell_type": "code",
      "source": [
        "site_names = soup.find_all(\"a\")\n",
        "\n",
        "for name in site_names:\n",
        "  print(name.get(\"href\"))"
      ],
      "metadata": {
        "colab": {
          "base_uri": "https://localhost:8080/"
        },
        "id": "mft_DrFn32z2",
        "outputId": "bba0e4d7-d001-4c40-a8e1-1a4814189c29"
      },
      "execution_count": 48,
      "outputs": [
        {
          "output_type": "stream",
          "name": "stdout",
          "text": [
            "www.google.com\n",
            "www.naver.com\n"
          ]
        }
      ]
    },
    {
      "cell_type": "code",
      "source": [
        "site_names = soup.find_all(\"a\")\n",
        "\n",
        "for name in site_names:\n",
        "  print(name.get_text())"
      ],
      "metadata": {
        "colab": {
          "base_uri": "https://localhost:8080/"
        },
        "id": "BkaTggJT4CQV",
        "outputId": "0c0069c7-26bc-4f24-9aa3-97c8ea36bf24"
      },
      "execution_count": 49,
      "outputs": [
        {
          "output_type": "stream",
          "name": "stdout",
          "text": [
            "google\n",
            "naver\n"
          ]
        }
      ]
    },
    {
      "cell_type": "code",
      "source": [
        "id1 = soup.select('div#id1') #CSS selector 처럼 접근해야 함/ select는 하나가 아니라 모두 가져와 줌\n",
        "id1"
      ],
      "metadata": {
        "colab": {
          "base_uri": "https://localhost:8080/"
        },
        "id": "bJJJCQcT4WIU",
        "outputId": "b830bdeb-b513-4996-c774-75d1d60c69f3"
      },
      "execution_count": 50,
      "outputs": [
        {
          "output_type": "execute_result",
          "data": {
            "text/plain": [
              "[<div id=\"id1\">\n",
              "       example Page\n",
              "       <p>g</p>\n",
              " </div>]"
            ]
          },
          "metadata": {},
          "execution_count": 50
        }
      ]
    },
    {
      "cell_type": "code",
      "source": [
        "class1 = soup.select('div.class1')\n",
        "class1"
      ],
      "metadata": {
        "colab": {
          "base_uri": "https://localhost:8080/"
        },
        "id": "DH1isEuL4oxy",
        "outputId": "19dd6aaf-0156-4dd9-f1f4-8483b072dc9e"
      },
      "execution_count": 51,
      "outputs": [
        {
          "output_type": "execute_result",
          "data": {
            "text/plain": [
              "[<div class=\"class1\">\n",
              " <p>a</p>\n",
              " <a href=\"www.naver.com\">naver</a>\n",
              " <p>b</p>\n",
              " <p>c</p>\n",
              " </div>]"
            ]
          },
          "metadata": {},
          "execution_count": 51
        }
      ]
    },
    {
      "cell_type": "code",
      "source": [
        "class1_a = soup.select('div.class1 a') #a태그에 대한 부분만 가져오기\n",
        "class1_a"
      ],
      "metadata": {
        "colab": {
          "base_uri": "https://localhost:8080/"
        },
        "id": "qPdCIikR41JG",
        "outputId": "7dbb40d4-0396-4c70-a75c-480046c1432c"
      },
      "execution_count": 53,
      "outputs": [
        {
          "output_type": "execute_result",
          "data": {
            "text/plain": [
              "[<a href=\"www.naver.com\">naver</a>]"
            ]
          },
          "metadata": {},
          "execution_count": 53
        }
      ]
    },
    {
      "cell_type": "markdown",
      "source": [
        "## 웹페이지 콘텐츠 가져오기"
      ],
      "metadata": {
        "id": "_fU7bJax5KP1"
      }
    },
    {
      "cell_type": "code",
      "source": [
        "%%writefile antem.html\n",
        "<!DOCTYPE html>\n",
        "<html>\n",
        "  <head>\n",
        "  </head>\n",
        "  <body>\n",
        "    <div>\n",
        "      <p id=\"title\">애국가</p>\n",
        "      <p id=\"content\">\n",
        "        동해물과 백두산이 마르고 닳도록 하느님이 보우하사 우리나라 만세. <br />\n",
        "        무궁화 삼천리 화려 강산 대한 사람 대한으로 길이 보전하세. <br />\n",
        "      </p>\n",
        "      <p id=\"content\">\n",
        "        동해물과 백두산이 마르고 닳도록 하느님이 보우하사 우리나라 만세. <br />\n",
        "        무궁화 삼천리 화려 강산 대한 사람 대한으로 길이 보전하세. <br />\n",
        "      </p>\n",
        "      <p id=\"content\">\n",
        "        동해물과 백두산이 마르고 닳도록 하느님이 보우하사 우리나라 만세. <br />\n",
        "        무궁화 삼천리 화려 강산 대한 사람 대한으로 길이 보전하세. <br />\n",
        "      </p>\n",
        "      <p id=\"content\">\n",
        "        동해물과 백두산이 마르고 닳도록 하느님이 보우하사 우리나라 만세. <br />\n",
        "        무궁화 삼천리 화려 강산 대한 사람 대한으로 길이 보전하세. <br />\n",
        "      </p>\n",
        "    </div>\n",
        "  </body>\n",
        "</html>"
      ],
      "metadata": {
        "colab": {
          "base_uri": "https://localhost:8080/"
        },
        "id": "10UWmnKa5CJ8",
        "outputId": "965394e3-20f1-4539-cdc3-dafb935d0106"
      },
      "execution_count": 54,
      "outputs": [
        {
          "output_type": "stream",
          "name": "stdout",
          "text": [
            "Writing antem.html\n"
          ]
        }
      ]
    },
    {
      "cell_type": "code",
      "source": [
        "with open('antem.html') as fp:\n",
        "  soup = BeautifulSoup(fp, 'html.parser')\n",
        "\n",
        "soup"
      ],
      "metadata": {
        "colab": {
          "base_uri": "https://localhost:8080/"
        },
        "id": "RoNE-Q7J6azW",
        "outputId": "b514dafb-f009-4840-ef2b-800a6517b384"
      },
      "execution_count": 55,
      "outputs": [
        {
          "output_type": "execute_result",
          "data": {
            "text/plain": [
              "<!DOCTYPE html>\n",
              "\n",
              "<html>\n",
              "<head>\n",
              "</head>\n",
              "<body>\n",
              "<div>\n",
              "<p id=\"title\">애국가</p>\n",
              "<p id=\"content\">\n",
              "        동해물과 백두산이 마르고 닳도록 하느님이 보우하사 우리나라 만세. <br/>\n",
              "        무궁화 삼천리 화려 강산 대한 사람 대한으로 길이 보전하세. <br/>\n",
              "</p>\n",
              "<p id=\"content\">\n",
              "        동해물과 백두산이 마르고 닳도록 하느님이 보우하사 우리나라 만세. <br/>\n",
              "        무궁화 삼천리 화려 강산 대한 사람 대한으로 길이 보전하세. <br/>\n",
              "</p>\n",
              "<p id=\"content\">\n",
              "        동해물과 백두산이 마르고 닳도록 하느님이 보우하사 우리나라 만세. <br/>\n",
              "        무궁화 삼천리 화려 강산 대한 사람 대한으로 길이 보전하세. <br/>\n",
              "</p>\n",
              "<p id=\"content\">\n",
              "        동해물과 백두산이 마르고 닳도록 하느님이 보우하사 우리나라 만세. <br/>\n",
              "        무궁화 삼천리 화려 강산 대한 사람 대한으로 길이 보전하세. <br/>\n",
              "</p>\n",
              "</div>\n",
              "</body>\n",
              "</html>"
            ]
          },
          "metadata": {},
          "execution_count": 55
        }
      ]
    },
    {
      "cell_type": "code",
      "source": [
        "title = soup.find('p', {'id':'title'})\n",
        "contents = soup.find_all('p', {'id':'content'})\n",
        "\n",
        "print(title.get_text())\n",
        "for content in contents:\n",
        "  print(content.get_text())"
      ],
      "metadata": {
        "colab": {
          "base_uri": "https://localhost:8080/"
        },
        "id": "eVyZBcBj6l1F",
        "outputId": "0040fd74-c68a-45fd-e7e0-b124e3a20eb8"
      },
      "execution_count": 56,
      "outputs": [
        {
          "output_type": "stream",
          "name": "stdout",
          "text": [
            "애국가\n",
            "\n",
            "        동해물과 백두산이 마르고 닳도록 하느님이 보우하사 우리나라 만세. \n",
            "        무궁화 삼천리 화려 강산 대한 사람 대한으로 길이 보전하세. \n",
            "\n",
            "\n",
            "        동해물과 백두산이 마르고 닳도록 하느님이 보우하사 우리나라 만세. \n",
            "        무궁화 삼천리 화려 강산 대한 사람 대한으로 길이 보전하세. \n",
            "\n",
            "\n",
            "        동해물과 백두산이 마르고 닳도록 하느님이 보우하사 우리나라 만세. \n",
            "        무궁화 삼천리 화려 강산 대한 사람 대한으로 길이 보전하세. \n",
            "\n",
            "\n",
            "        동해물과 백두산이 마르고 닳도록 하느님이 보우하사 우리나라 만세. \n",
            "        무궁화 삼천리 화려 강산 대한 사람 대한으로 길이 보전하세. \n",
            "\n"
          ]
        }
      ]
    },
    {
      "cell_type": "markdown",
      "source": [
        "## 인터넷 웹페이지 가져오기"
      ],
      "metadata": {
        "id": "W38ml73_7F4C"
      }
    },
    {
      "cell_type": "code",
      "source": [],
      "metadata": {
        "id": "oOW_pFK87A1R"
      },
      "execution_count": null,
      "outputs": []
    }
  ]
}